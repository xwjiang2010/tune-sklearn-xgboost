{
 "cells": [
  {
   "cell_type": "code",
   "execution_count": null,
   "id": "301eedee-48ff-48b1-87a6-78a25b6c0796",
   "metadata": {},
   "outputs": [],
   "source": [
    "import pandas as pd\n",
    "import numpy as np\n",
    "import ray\n",
    "from ray import tune\n",
    "from sklearn.model_selection import RandomizedSearchCV, GridSearchCV\n",
    "from sklearn.metrics import roc_auc_score\n",
    "from sklearn.model_selection import StratifiedKFold\n",
    "from tune_sklearn import TuneSearchCV\n",
    "from xgboost import XGBClassifier\n",
    "from ray.tune.suggest.bohb import TuneBOHB\n",
    "from ray.tune.schedulers import HyperBandForBOHB\n",
    "\n",
    "FILE_URL = \"https://ray-ci-higgs.s3.us-west-2.amazonaws.com/\" \\\n",
    "                      \"safe_driver.csv\""
   ]
  },
  {
   "cell_type": "code",
   "execution_count": null,
   "id": "5405e200-f0d3-444d-a1c3-8e06dda6bf17",
   "metadata": {},
   "outputs": [],
   "source": [
    "train_df = pd.read_csv(FILE_URL, dtype={'id': np.int32, 'target': np.int8})\n",
    "\n",
    "y = train_df['target'].values\n",
    "X = train_df.drop(['target', 'id'], axis=1)\n",
    "\n",
    "from sklearn.model_selection import train_test_split\n",
    "X_train, X_test, y_train, y_test = train_test_split(X, y, stratify=y, test_size=0.2, random_state=7)"
   ]
  },
  {
   "cell_type": "code",
   "execution_count": null,
   "id": "6352d4e8-510d-418a-aade-cf555909184b",
   "metadata": {},
   "outputs": [],
   "source": [
    "# default classifier.\n",
    "model = XGBClassifier(objective='binary:logistic', nthread=1, eval_metric='auc',)"
   ]
  },
  {
   "cell_type": "code",
   "execution_count": null,
   "id": "c97d2b9e-53ad-4fdc-a37b-e73f8d5576db",
   "metadata": {},
   "outputs": [],
   "source": [
    "def train_model(model, X_train, y_train, X_test, y_test):\n",
    "\tskf = StratifiedKFold(n_splits=3, shuffle=True, random_state=1234)\n",
    "\trun_cv = RandomizedSearchCV(model, param_distributions= {}, n_iter=1, scoring='roc_auc', n_jobs=8, cv=skf.split(X_train,y_train), verbose=3, random_state=1001)\n",
    "\trun_cv.fit(X_train, y_train)\n",
    "\tprint(\"====run_cv_result====\")\n",
    "\tprint(run_cv.cv_results_)\n",
    "\ty_pred = run_cv.predict_proba(X_test)\n",
    "\troc_auc = roc_auc_score(y_test, y_pred[:,1])\n",
    "\tgini_score = 2 * roc_auc - 1\n",
    "\tprint(\"====gini score: {}====\".format(gini_score))"
   ]
  },
  {
   "cell_type": "code",
   "execution_count": null,
   "id": "374e3f88-8fea-4e3c-a56d-ac2dc95e750e",
   "metadata": {},
   "outputs": [],
   "source": [
    "# To simulate training a default classifier without any hpo on a laptop.\n",
    "train_model(model, X_train, y_train, X_test, y_test)"
   ]
  },
  {
   "cell_type": "code",
   "execution_count": null,
   "id": "5060ee89-4139-4d84-a1fa-cfb89b8c046a",
   "metadata": {},
   "outputs": [],
   "source": [
    "# To simulate hpo on a cluster.\n",
    "new_params = {\n",
    "        # \"learning_rate\": tune.choice([0.02, 0.1, 0.5]),\n",
    "        \"max_depth\": tune.randint(lower=1, upper=10),\n",
    "        \"min_child_weight\": tune.loguniform(lower=0.001, upper=128),\n",
    "        \"subsample\": tune.uniform(lower=0.1, upper=1.0),\n",
    "        \"colsample_bylevel\": tune.uniform(lower=0.01, upper=1.0),\n",
    "        \"colsample_bytree\": tune.uniform(lower=0.01, upper=1.0),\n",
    "        \"reg_alpha\": tune.loguniform(lower=1 / 1024, upper=10.0),\n",
    "        \"reg_lambda\": tune.loguniform(lower=1 / 1024, upper=10.0),\n",
    "        \"scale_pos_weight\": tune.choice([1, 26]),  # 26 calculated by the #negative_y/#positive_y\n",
    "}"
   ]
  },
  {
   "cell_type": "code",
   "execution_count": null,
   "id": "76a32abe-4531-43cf-97da-b96fee5e2ca5",
   "metadata": {},
   "outputs": [],
   "source": [
    "# This is to show an example of GridSearchCV as offered by sklearn's API.\n",
    "# GridSearchCV becomes very inefficient in high dimensional search space.\n",
    "# Thus only a few parameters may be covered. Also it has to be discrete. \n",
    "\n",
    "# run_cv = GridSearchCV(\n",
    "#     model, \n",
    "#     {\n",
    "#     \t\"learning_rate\": [0.5, 1],\n",
    "#     \t\"n_estimators\": [50, 100],\n",
    "#     },\n",
    "#     cv=3,\n",
    "#     scoring='roc_auc', \n",
    "#     n_jobs=-1, \n",
    "#     verbose=2\n",
    "# )\n",
    "\n",
    "# TuneSearchCV carries a lot of similarities as GridSearchCV in its API - friendly API.\n",
    "hpo = TuneSearchCV(\n",
    "    model,\n",
    "    param_distributions=new_params,\n",
    "    cv=3,\n",
    "    n_trials=100,\n",
    "    scoring=\"roc_auc\",\n",
    "    early_stopping=\"HyperBandForBOHB\",\n",
    "    max_iters=10,\n",
    "    max_concurrent=40,\n",
    "    search_optimization=\"bohb\",\n",
    "    verbose=2,\n",
    ")"
   ]
  },
  {
   "cell_type": "code",
   "execution_count": null,
   "id": "dfe3e8e8-d604-4fc1-a33b-033eeb169689",
   "metadata": {},
   "outputs": [],
   "source": [
    "ray.init(address=\"auto\")"
   ]
  },
  {
   "cell_type": "code",
   "execution_count": null,
   "id": "bb8d1c31-86cb-49f6-8a47-50db4d53913f",
   "metadata": {},
   "outputs": [],
   "source": [
    "hpo.fit(X_train, y_train)"
   ]
  },
  {
   "cell_type": "code",
   "execution_count": null,
   "id": "fa1153b5-0234-4d65-a354-4e44f8185382",
   "metadata": {},
   "outputs": [],
   "source": [
    "best_model = hpo.best_estimator_\n",
    "train_model(best_model, X_train, y_train, X_test, y_test)"
   ]
  }
 ],
 "metadata": {
  "kernelspec": {
   "display_name": "Python 3",
   "language": "python",
   "name": "python3"
  },
  "language_info": {
   "codemirror_mode": {
    "name": "ipython",
    "version": 3
   },
   "file_extension": ".py",
   "mimetype": "text/x-python",
   "name": "python",
   "nbconvert_exporter": "python",
   "pygments_lexer": "ipython3",
   "version": "3.9.6"
  }
 },
 "nbformat": 4,
 "nbformat_minor": 5
}
